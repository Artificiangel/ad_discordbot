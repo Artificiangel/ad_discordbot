{
 "cells": [
  {
   "cell_type": "code",
   "execution_count": 34,
   "metadata": {},
   "outputs": [],
   "source": [
    "from dataclasses import dataclass, field\n",
    "from typing import Optional\n",
    "from dataclasses_json import dataclass_json, config"
   ]
  },
  {
   "cell_type": "code",
   "execution_count": 50,
   "metadata": {},
   "outputs": [],
   "source": [
    "def cls_get_pass(x):\n",
    "    return x\n",
    "\n",
    "def cnf(default=None, default_list:tuple=None, check_bool=True, encoder=None, decoder=None, name=None, dont_save=False, decode_pass=True, exclude=None, **kw):\n",
    "    \n",
    "    # Create an exclusion function based on passed settings\n",
    "    def exclude_func(x):\n",
    "        if dont_save:\n",
    "            return True\n",
    "        if x == default:\n",
    "            return True\n",
    "        if default_list and x in default_list:\n",
    "            return True\n",
    "        if check_bool and not bool(x):\n",
    "            return True\n",
    "        return False\n",
    "    \n",
    "    # if decoder is None and decode_pass: # TODO test this?\n",
    "    #     decoder = cls_get_pass\n",
    "    \n",
    "    exclude = exclude or exclude_func\n",
    "    \n",
    "    return config(exclude=exclude, encoder=encoder, decoder=decoder, field_name=name, **kw)\n",
    "\n",
    "@dataclass_json\n",
    "@dataclass\n",
    "class HMessage:\n",
    "    name: str\n",
    "    # uuid: Optional[str] = field(default=2, metadata=cnf(2, name='u'))\n",
    "    # x: Optional[str] = field(default='bb', metadata=cnf(default_list=('a', 'c'), name='x'))\n",
    "    y: Optional[str] = field(metadata=cnf(dont_save=True, decoder=lambda x: None))\n",
    "    \n",
    "    \n",
    "    # def __bool__(self):\n",
    "    #     return bool(self.x)"
   ]
  },
  {
   "cell_type": "code",
   "execution_count": 51,
   "metadata": {},
   "outputs": [
    {
     "name": "stdout",
     "output_type": "stream",
     "text": [
      "HMessage(name='Kat', y='t')\n",
      "{'name': 'Kat'}\n"
     ]
    }
   ],
   "source": [
    "hm = HMessage('Kat', 't')\n",
    "print(hm)\n",
    "d = hm.to_dict()\n",
    "print(d)"
   ]
  },
  {
   "cell_type": "code",
   "execution_count": 54,
   "metadata": {},
   "outputs": [
    {
     "ename": "TypeError",
     "evalue": "DataClassJsonMixin.from_dict() got multiple values for argument 'kvs'",
     "output_type": "error",
     "traceback": [
      "\u001b[1;31m---------------------------------------------------------------------------\u001b[0m",
      "\u001b[1;31mTypeError\u001b[0m                                 Traceback (most recent call last)",
      "Cell \u001b[1;32mIn[54], line 1\u001b[0m\n\u001b[1;32m----> 1\u001b[0m hm2 \u001b[38;5;241m=\u001b[39m \u001b[43mHMessage\u001b[49m\u001b[38;5;241;43m.\u001b[39;49m\u001b[43mfrom_dict\u001b[49m\u001b[43m(\u001b[49m\u001b[43md\u001b[49m\u001b[43m,\u001b[49m\u001b[43m \u001b[49m\u001b[43mkvs\u001b[49m\u001b[38;5;241;43m=\u001b[39;49m\u001b[38;5;28;43mdict\u001b[39;49m\u001b[43m(\u001b[49m\u001b[43my\u001b[49m\u001b[38;5;241;43m=\u001b[39;49m\u001b[38;5;124;43m'\u001b[39;49m\u001b[38;5;124;43mtest\u001b[39;49m\u001b[38;5;124;43m'\u001b[39;49m\u001b[43m)\u001b[49m\u001b[43m)\u001b[49m\n\u001b[0;32m      2\u001b[0m \u001b[38;5;28mprint\u001b[39m(hm2)\n",
      "\u001b[1;31mTypeError\u001b[0m: DataClassJsonMixin.from_dict() got multiple values for argument 'kvs'"
     ]
    }
   ],
   "source": [
    "hm2 = HMessage.from_dict(d)\n",
    "print(hm2)"
   ]
  },
  {
   "cell_type": "code",
   "execution_count": 1,
   "metadata": {},
   "outputs": [
    {
     "name": "stdout",
     "output_type": "stream",
     "text": [
      "20240601-01-36-32.json\n",
      "20240601-01-31-59.json\n",
      "20240601-01-27-54.json\n",
      "20240601-01-18-44.json\n",
      "20240531-14-10-51.json\n",
      "20240531-14-10-51.0.json\n",
      "20240530-14-14-55.json\n",
      "20240530-14-14-55.0.json\n",
      "20240530-11-17-25.json\n",
      "20240530-11-17-25.0.json\n",
      "20240530-11-16-07_channel.json\n",
      "20240530-11-16-07_channel.553612543977979925_Example_chat.json\n",
      "20240530-11-00-40_channel.json\n",
      "20240530-11-00-40_channel.553612543977979925_Example_chat.json\n",
      "20240530-10-50-21_channel.553612543977979925_Example_chat.json\n",
      "20240530-10-40-11_channel.json\n",
      "20240530-10-40-11_channel.553612543977979925_Example_chat.json\n"
     ]
    }
   ],
   "source": [
    "import os\n",
    "for file in reversed(os.listdir(r'C:\\Projects-C\\AI\\text-generation-webui\\logs\\chat\\Example')):\n",
    "    print(file)"
   ]
  }
 ],
 "metadata": {
  "kernelspec": {
   "display_name": "Python 3",
   "language": "python",
   "name": "python3"
  },
  "language_info": {
   "codemirror_mode": {
    "name": "ipython",
    "version": 3
   },
   "file_extension": ".py",
   "mimetype": "text/x-python",
   "name": "python",
   "nbconvert_exporter": "python",
   "pygments_lexer": "ipython3",
   "version": "3.11.3"
  }
 },
 "nbformat": 4,
 "nbformat_minor": 2
}
